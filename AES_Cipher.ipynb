{
 "cells": [
  {
   "cell_type": "markdown",
   "id": "d68b4050-8b0b-4f7c-b4d5-fb142067cf76",
   "metadata": {},
   "source": [
    "# AES"
   ]
  },
  {
   "cell_type": "code",
   "execution_count": 67,
   "id": "e5198187-134b-49e4-9d33-d9ed7cb096d2",
   "metadata": {},
   "outputs": [],
   "source": [
    "def display(matrix):\n",
    "    for row in matrix:\n",
    "        print(\" \".join(hex(x)[2:].upper().zfill(2) for x in row))\n",
    "    print()\n",
    "\n",
    "s_box = [\n",
    "    0x63,0x7c,0x77,0x7b,0xf2,0x6b,0x6f,0xc5, 0x30,0x01,0x67,0x2b,0xfe,0xd7,0xab,0x76,\n",
    "    0xca,0x82,0xc9,0x7d,0xfa,0x59,0x47,0xf0, 0xad,0xd4,0xa2,0xaf,0x9c,0xa4,0x72,0xc0,\n",
    "    0xb7,0xfd,0x93,0x26,0x36,0x3f,0xf7,0xcc, 0x34,0xa5,0xe5,0xf1,0x71,0xd8,0x31,0x15,\n",
    "    0x04,0xc7,0x23,0xc3,0x18,0x96,0x05,0x9a, 0x07,0x12,0x80,0xe2,0xeb,0x27,0xb2,0x75,\n",
    "    0x09,0x83,0x2c,0x1a,0x1b,0x6e,0x5a,0xa0, 0x52,0x3b,0xd6,0xb3,0x29,0xe3,0x2f,0x84,\n",
    "    0x53,0xd1,0x00,0xed,0x20,0xfc,0xb1,0x5b, 0x6a,0xcb,0xbe,0x39,0x4a,0x4c,0x58,0xcf,\n",
    "    0xd0,0xef,0xaa,0xfb,0x43,0x4d,0x33,0x85, 0x45,0xf9,0x02,0x7f,0x50,0x3c,0x9f,0xa8,\n",
    "    0x51,0xa3,0x40,0x8f,0x92,0x9d,0x38,0xf5, 0xbc,0xb6,0xda,0x21,0x10,0xff,0xf3,0xd2,\n",
    "    0xcd,0x0c,0x13,0xec,0x5f,0x97,0x44,0x17, 0xc4,0xa7,0x7e,0x3d,0x64,0x5d,0x19,0x73,\n",
    "    0x60,0x81,0x4f,0xdc,0x22,0x2a,0x90,0x88, 0x46,0xee,0xb8,0x14,0xde,0x5e,0x0b,0xdb,\n",
    "    0xe0,0x32,0x3a,0x0a,0x49,0x06,0x24,0x5c, 0xc2,0xd3,0xac,0x62,0x91,0x95,0xe4,0x79,\n",
    "    0xe7,0xc8,0x37,0x6d,0x8d,0xd5,0x4e,0xa9, 0x6c,0x56,0xf4,0xea,0x65,0x7a,0xae,0x08,\n",
    "    0xba,0x78,0x25,0x2e,0x1c,0xa6,0xb4,0xc6, 0xe8,0xdd,0x74,0x1f,0x4b,0xbd,0x8b,0x8a,\n",
    "    0x70,0x3e,0xb5,0x66,0x48,0x03,0xf6,0x0e, 0x61,0x35,0x57,0xb9,0x86,0xc1,0x1d,0x9e,\n",
    "    0xe1,0xf8,0x98,0x11,0x69,0xd9,0x8e,0x94, 0x9b,0x1e,0x87,0xe9,0xce,0x55,0x28,0xdf,\n",
    "    0x8c,0xa1,0x89,0x0d,0xbf,0xe6,0x42,0x68, 0x41,0x99,0x2d,0x0f,0xb0,0x54,0xbb,0x16\n",
    "]\n",
    "\n"
   ]
  },
  {
   "cell_type": "markdown",
   "id": "95e6140f-3161-49d3-a935-9a2f1149b4af",
   "metadata": {},
   "source": [
    "### SHIFTING ROWS"
   ]
  },
  {
   "cell_type": "code",
   "execution_count": 68,
   "id": "39eda401-bce0-497c-8f4c-cb7b164082e9",
   "metadata": {},
   "outputs": [],
   "source": [
    "def substitute(state):\n",
    "    new_state = []\n",
    "    for row in state:\n",
    "        new_row = [s_box[b] for b in row]\n",
    "        new_state.append(new_row)\n",
    "    return new_state\n"
   ]
  },
  {
   "cell_type": "code",
   "execution_count": 69,
   "id": "8678df8a-38aa-4039-a25c-9d7bd3208c7c",
   "metadata": {},
   "outputs": [],
   "source": [
    "def shift_rows(state):\n",
    "    state[1] = state[1][1:] + state[1][:1]\n",
    "    state[2] = state[2][2:] + state[2][:2]\n",
    "    state[3] = state[3][3:] + state[3][:3]\n",
    "    return state\n"
   ]
  },
  {
   "cell_type": "code",
   "execution_count": 70,
   "id": "7dde3b71-6596-4f24-bb3e-3a5733913fe2",
   "metadata": {},
   "outputs": [],
   "source": [
    "def gf_mult(a, b):\n",
    "    result = 0\n",
    "    for _ in range(8):\n",
    "        if b & 1:\n",
    "            result ^= a\n",
    "        hi = a & 0x80\n",
    "        a = (a << 1) & 0xFF\n",
    "        if hi:\n",
    "            a ^= 0x1b\n",
    "        b >>= 1\n",
    "    return result\n"
   ]
  },
  {
   "cell_type": "code",
   "execution_count": 71,
   "id": "bc45faad-36c1-4269-b635-31fffb9f834d",
   "metadata": {},
   "outputs": [],
   "source": [
    "def mix_columns(state):\n",
    "    M = [\n",
    "        [2, 3, 1, 1],\n",
    "        [1, 2, 3, 1],\n",
    "        [1, 1, 2, 3],\n",
    "        [3, 1, 1, 2]\n",
    "    ]\n",
    "    new_state = [[0]*4 for _ in range(4)]\n",
    "    for i in range(4):\n",
    "        for j in range(4):\n",
    "            new_state[i][j] = (\n",
    "                gf_mult(state[0][j], M[i][0]) ^\n",
    "                gf_mult(state[1][j], M[i][1]) ^\n",
    "                gf_mult(state[2][j], M[i][2]) ^\n",
    "                gf_mult(state[3][j], M[i][3])\n",
    "            )\n",
    "    return new_state\n"
   ]
  },
  {
   "cell_type": "code",
   "execution_count": 72,
   "id": "3479bb37-e0fa-442a-adce-ab6bf16cc004",
   "metadata": {},
   "outputs": [],
   "source": [
    "def add_round_key(state):\n",
    "    key = [\n",
    "        [0xac, 0x19, 0x28, 0x57],\n",
    "        [0x77, 0xfa, 0xd1, 0x5c],\n",
    "        [0x66, 0xdc, 0x29, 0x00],\n",
    "        [0xf3, 0x21, 0x41, 0x6a]\n",
    "    ]\n",
    "    for i in range(4):\n",
    "        for j in range(4):\n",
    "            state[i][j] ^= key[i][j]\n",
    "    return state\n",
    "\n",
    "data = [\n",
    "    [0xea, 0x04, 0x65, 0x85],\n",
    "    [0x83, 0x45, 0x5d, 0x96],\n",
    "    [0x5c, 0x33, 0x98, 0xb0],\n",
    "    [0xf0, 0x2d, 0xad, 0xc5]\n",
    "]\n"
   ]
  },
  {
   "cell_type": "code",
   "execution_count": 73,
   "id": "e81eeb27-15f9-484e-a023-63cc8e3a7f7a",
   "metadata": {},
   "outputs": [
    {
     "name": "stdout",
     "output_type": "stream",
     "text": [
      "Initial:\n",
      "EA 04 65 85\n",
      "83 45 5D 96\n",
      "5C 33 98 B0\n",
      "F0 2D AD C5\n",
      "\n",
      "After Substitution:\n",
      "87 F2 4D 97\n",
      "EC 6E 4C 90\n",
      "4A C3 46 E7\n",
      "8C D8 95 A6\n",
      "\n",
      "After Shift Rows:\n",
      "87 F2 4D 97\n",
      "6E 4C 90 EC\n",
      "46 E7 4A C3\n",
      "A6 8C D8 95\n",
      "\n",
      "After Mix Columns:\n",
      "47 40 A3 4C\n",
      "37 D4 70 9F\n",
      "94 E4 3A 42\n",
      "ED A5 A6 BC\n",
      "\n",
      "After Add Round Key:\n",
      "EB 59 8B 1B\n",
      "40 2E A1 C3\n",
      "F2 38 13 42\n",
      "1E 84 E7 D6\n",
      "\n",
      "Final Output:\n",
      "EC 8D 53 B3\n",
      "C4 89 08 C4\n",
      "57 23 9B AE\n",
      "82 6E C2 A1\n",
      "\n"
     ]
    }
   ],
   "source": [
    "print(\"Initial:\")\n",
    "display(data)\n",
    "\n",
    "data = substitute(data)\n",
    "print(\"After Substitution:\")\n",
    "display(data)\n",
    "\n",
    "data = shift_rows(data)\n",
    "print(\"After Shift Rows:\")\n",
    "display(data)\n",
    "\n",
    "data = mix_columns(data)\n",
    "print(\"After Mix Columns:\")\n",
    "display(data)\n",
    "\n",
    "data = add_round_key(data)\n",
    "print(\"After Add Round Key:\")\n",
    "display(data)\n",
    "\n",
    "for _ in range(8):\n",
    "    data = add_round_key(mix_columns(shift_rows(substitute(data))))\n",
    "\n",
    "data = add_round_key(shift_rows(substitute(data)))\n",
    "print(\"Final Output:\")\n",
    "display(data)"
   ]
  }
 ],
 "metadata": {
  "kernelspec": {
   "display_name": "Python 3 (ipykernel)",
   "language": "python",
   "name": "python3"
  },
  "language_info": {
   "codemirror_mode": {
    "name": "ipython",
    "version": 3
   },
   "file_extension": ".py",
   "mimetype": "text/x-python",
   "name": "python",
   "nbconvert_exporter": "python",
   "pygments_lexer": "ipython3",
   "version": "3.12.7"
  }
 },
 "nbformat": 4,
 "nbformat_minor": 5
}
