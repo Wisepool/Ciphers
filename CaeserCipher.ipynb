{
 "cells": [
  {
   "cell_type": "code",
   "execution_count": 4,
   "id": "02ffd2aa-18d5-452d-81c3-9cccba85d199",
   "metadata": {},
   "outputs": [
    {
     "name": "stdout",
     "output_type": "stream",
     "text": [
      "For the Encryption\n"
     ]
    },
    {
     "name": "stdin",
     "output_type": "stream",
     "text": [
      "Enter the Plain Text :  Prakhar\n",
      "Enter the Key :  4\n"
     ]
    },
    {
     "ename": "TypeError",
     "evalue": "unsupported operand type(s) for -: 'int' and 'str'",
     "output_type": "error",
     "traceback": [
      "\u001b[1;31m---------------------------------------------------------------------------\u001b[0m",
      "\u001b[1;31mTypeError\u001b[0m                                 Traceback (most recent call last)",
      "Cell \u001b[1;32mIn[4], line 36\u001b[0m\n\u001b[0;32m     34\u001b[0m PlainText \u001b[38;5;241m=\u001b[39m \u001b[38;5;28mstr\u001b[39m(\u001b[38;5;28minput\u001b[39m(\u001b[38;5;124m\"\u001b[39m\u001b[38;5;124mEnter the Plain Text : \u001b[39m\u001b[38;5;124m\"\u001b[39m))\n\u001b[0;32m     35\u001b[0m Key \u001b[38;5;241m=\u001b[39m \u001b[38;5;28mint\u001b[39m(\u001b[38;5;28minput\u001b[39m(\u001b[38;5;124m\"\u001b[39m\u001b[38;5;124mEnter the Key : \u001b[39m\u001b[38;5;124m\"\u001b[39m))\n\u001b[1;32m---> 36\u001b[0m \u001b[38;5;28mprint\u001b[39m(Decrypt(PlainText , key))\n\u001b[0;32m     37\u001b[0m \u001b[38;5;28mprint\u001b[39m(\u001b[38;5;124m\"\u001b[39m\u001b[38;5;130;01m\\n\u001b[39;00m\u001b[38;5;124mFor the Decryption\u001b[39m\u001b[38;5;124m\"\u001b[39m)\n\u001b[0;32m     38\u001b[0m CipherText \u001b[38;5;241m=\u001b[39m \u001b[38;5;28mstr\u001b[39m(\u001b[38;5;28minput\u001b[39m(\u001b[38;5;124m\"\u001b[39m\u001b[38;5;124mEnter the Cipher Text : \u001b[39m\u001b[38;5;124m\"\u001b[39m))\n",
      "Cell \u001b[1;32mIn[4], line 7\u001b[0m, in \u001b[0;36mDecrypt\u001b[1;34m(ptext, key)\u001b[0m\n\u001b[0;32m      5\u001b[0m character \u001b[38;5;241m=\u001b[39m ptext[i]\n\u001b[0;32m      6\u001b[0m \u001b[38;5;28;01mif\u001b[39;00m (character\u001b[38;5;241m.\u001b[39misupper()):\n\u001b[1;32m----> 7\u001b[0m     res \u001b[38;5;241m+\u001b[39m\u001b[38;5;241m=\u001b[39m \u001b[38;5;28mchr\u001b[39m(((\u001b[38;5;28mord\u001b[39m(character) \u001b[38;5;241m-\u001b[39m \u001b[38;5;241m65\u001b[39m \u001b[38;5;241m-\u001b[39m key) \u001b[38;5;241m%\u001b[39m \u001b[38;5;241m26\u001b[39m) \u001b[38;5;241m+\u001b[39m \u001b[38;5;241m65\u001b[39m)  \u001b[38;5;66;03m#ord changes letter to ASCII value\u001b[39;00m\n\u001b[0;32m      8\u001b[0m \u001b[38;5;28;01melif\u001b[39;00m(character\u001b[38;5;241m.\u001b[39mislower()):\n\u001b[0;32m      9\u001b[0m     res \u001b[38;5;241m+\u001b[39m\u001b[38;5;241m=\u001b[39m \u001b[38;5;28mchr\u001b[39m(((\u001b[38;5;28mord\u001b[39m(character) \u001b[38;5;241m-\u001b[39m \u001b[38;5;241m97\u001b[39m \u001b[38;5;241m-\u001b[39m key) \u001b[38;5;241m%\u001b[39m \u001b[38;5;241m26\u001b[39m) \u001b[38;5;241m+\u001b[39m \u001b[38;5;241m97\u001b[39m)\n",
      "\u001b[1;31mTypeError\u001b[0m: unsupported operand type(s) for -: 'int' and 'str'"
     ]
    }
   ],
   "source": [
    "#Code For Decryption \n",
    "def Decrypt (ptext , key) :\n",
    "    res = []\n",
    "    for i in range(len(ptext)):\n",
    "        character = ptext[i]\n",
    "        if (character.isupper()):\n",
    "            res += chr(((ord(character) - 65 - key) % 26) + 65)  #ord changes letter to ASCII value\n",
    "        elif(character.islower()):\n",
    "            res += chr(((ord(character) - 97 - key) % 26) + 97)\n",
    "        elif(character == \" \"):\n",
    "            res += \" \"\n",
    "    script = \"\".join(res);\n",
    "    return script\n",
    "\n",
    "\n",
    "\n",
    "#Code For Encryption\n",
    "def Encrypt (ctext , key) :\n",
    "    res1 = []\n",
    "    for i in range(len(ctext)):\n",
    "        character1 = ctext[i]\n",
    "        if (character1.isupper()):\n",
    "            res1 += chr(((ord(character1) - 65 + key) % 26) + 65)\n",
    "        elif(character1.islower()):\n",
    "            res1 += chr(((ord(character1) - 97 + key) % 26) + 97)\n",
    "        elif(character1==\" \"):\n",
    "            res1 += \" \"\n",
    "    script1 = \"\".join(res1);\n",
    "    return script1\n",
    "\n",
    "\n",
    "#Main Function\n",
    "print(\"For the Encryption\")\n",
    "PlainText = str(input(\"Enter the Plain Text : \"))\n",
    "Key = int(input(\"Enter the Key : \"))\n",
    "print(Decrypt(PlainText , key))\n",
    "print(\"\\nFor the Decryption\")\n",
    "CipherText = str(input(\"Enter the Cipher Text : \"))\n",
    "Key = int(input(\"Enter the Key : \"))\n",
    "print(Encrypt(CipherText , key))\n"
   ]
  },
  {
   "cell_type": "code",
   "execution_count": null,
   "id": "345056ec-9cae-4c39-b443-d41a6e638ab6",
   "metadata": {},
   "outputs": [],
   "source": []
  }
 ],
 "metadata": {
  "kernelspec": {
   "display_name": "Python 3 (ipykernel)",
   "language": "python",
   "name": "python3"
  },
  "language_info": {
   "codemirror_mode": {
    "name": "ipython",
    "version": 3
   },
   "file_extension": ".py",
   "mimetype": "text/x-python",
   "name": "python",
   "nbconvert_exporter": "python",
   "pygments_lexer": "ipython3",
   "version": "3.12.7"
  }
 },
 "nbformat": 4,
 "nbformat_minor": 5
}
