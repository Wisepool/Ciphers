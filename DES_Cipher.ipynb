{
 "cells": [
  {
   "cell_type": "markdown",
   "id": "d68b4050-8b0b-4f7c-b4d5-fb142067cf76",
   "metadata": {},
   "source": [
    "# DES"
   ]
  },
  {
   "cell_type": "code",
   "execution_count": 66,
   "id": "e5198187-134b-49e4-9d33-d9ed7cb096d2",
   "metadata": {},
   "outputs": [
    {
     "name": "stdout",
     "output_type": "stream",
     "text": [
      "For the encryption:\n"
     ]
    },
    {
     "name": "stdin",
     "output_type": "stream",
     "text": [
      "Enter the plaintext:  Prakhar Mehta\n"
     ]
    },
    {
     "name": "stdout",
     "output_type": "stream",
     "text": [
      "Plaintext: Prakhar Mehta\n",
      "Encrypted: b'i\\xde\\xabZ\\x16\\xc2\\xbe\\xf5\\xaf\\xab\\x98\\x90\\xfdzI\\xb4'\n",
      "\n",
      "For the decryption\n",
      "Decrypted: Prakhar Mehta\n"
     ]
    }
   ],
   "source": [
    "from Crypto.Cipher import DES\n",
    "from Crypto.Util.Padding import pad, unpad\n",
    "import os\n",
    "\n",
    "def generate_key():\n",
    "    return os.urandom(8)\n",
    "\n",
    "def generate_iv():\n",
    "    return os.urandom(8)\n",
    "\n",
    "def encrypt(plain_text, key, iv):\n",
    "    cipher = DES.new(key, DES.MODE_CBC, iv)\n",
    "    encrypted_text = cipher.encrypt(pad(plain_text.encode(), DES.block_size))\n",
    "    return encrypted_text\n",
    "\n",
    "def decrypt(encrypted_text, key, iv):\n",
    "    cipher = DES.new(key, DES.MODE_CBC, iv)\n",
    "    decrypted_text = unpad(cipher.decrypt(encrypted_text), DES.block_size)\n",
    "    return decrypted_text.decode()\n",
    "\n",
    "key = generate_key()\n",
    "iv = generate_iv()\n",
    "\n",
    "print(\"For the encryption:\")\n",
    "plain = input(\"Enter the plaintext: \")\n",
    "print(\"Plaintext:\", plain)\n",
    "\n",
    "cipher_text = encrypt(plain, key, iv)\n",
    "print(f\"Encrypted: {cipher_text}\")\n",
    "\n",
    "print(\"\\nFor the decryption\")\n",
    "decrypted_text = decrypt(cipher_text, key, iv)\n",
    "print(f\"Decrypted: {decrypted_text}\")\n"
   ]
  }
 ],
 "metadata": {
  "kernelspec": {
   "display_name": "Python 3 (ipykernel)",
   "language": "python",
   "name": "python3"
  },
  "language_info": {
   "codemirror_mode": {
    "name": "ipython",
    "version": 3
   },
   "file_extension": ".py",
   "mimetype": "text/x-python",
   "name": "python",
   "nbconvert_exporter": "python",
   "pygments_lexer": "ipython3",
   "version": "3.12.7"
  }
 },
 "nbformat": 4,
 "nbformat_minor": 5
}
