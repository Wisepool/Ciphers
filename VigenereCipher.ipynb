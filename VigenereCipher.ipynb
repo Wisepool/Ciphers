{
 "cells": [
  {
   "cell_type": "code",
   "execution_count": 2,
   "id": "02ffd2aa-18d5-452d-81c3-9cccba85d199",
   "metadata": {},
   "outputs": [
    {
     "name": "stdin",
     "output_type": "stream",
     "text": [
      "Enter the Plain Text :  key\n",
      "Enter the Key :  Prakhar mehta\n"
     ]
    },
    {
     "name": "stdout",
     "output_type": "stream",
     "text": [
      "mor\n",
      "\n",
      "For the Decryption \n"
     ]
    },
    {
     "name": "stdin",
     "output_type": "stream",
     "text": [
      "Enter the Cipher Text :  mor\n",
      "Enter the key :  Prakhar mehta\n"
     ]
    },
    {
     "name": "stdout",
     "output_type": "stream",
     "text": [
      "key\n"
     ]
    }
   ],
   "source": [
    "# For The Encryption\n",
    "def Encrypt (Plaintext , key) :\n",
    "    res = []\n",
    "    for i in range (len(Plaintext)) : \n",
    "        character = Plaintext[i]\n",
    "        keyL = key[i%len(key)]\n",
    "        if (character.isupper()):\n",
    "            res += chr( (((ord(character) - 65) + ord(keyL)) % 26 ) + 65 )\n",
    "        elif (character.islower()):\n",
    "            res += chr( (((ord(character) - 97) + ord(keyL)) % 26 ) + 97 )\n",
    "        elif (character == \" \" ):\n",
    "            res += \" \"\n",
    "    script = \"\".join(res)\n",
    "    return script\n",
    "\n",
    "#For the Decryption\n",
    "def Decrypt (Ciphertext , key) :\n",
    "    res1 = []\n",
    "    for i in range (len(Ciphertext)) : \n",
    "        character1 = Ciphertext[i]\n",
    "        keyL = key[i%len(key)]\n",
    "        if (character1.isupper()):\n",
    "            res1 += chr( (((ord(character1) - 65) - ord(keyL)) % 26 ) + 65 )\n",
    "        elif (character1.islower()):\n",
    "            res1 += chr( (((ord(character1) - 97) - ord(keyL)) % 26 ) + 97 )\n",
    "        elif (character1 == \" \" ):\n",
    "            res1 += \" \"\n",
    "    script1 = \"\".join(res1)\n",
    "    return script1\n",
    "\n",
    "\n",
    "#Main Code \n",
    "ptext = str(input(\"Enter the Plain Text : \"))\n",
    "key = str(input(\"Enter the Key : \"))\n",
    "print(Encrypt(ptext , key))\n",
    "\n",
    "print(\"\\nFor the Decryption \")\n",
    "ctext = str(input(\"Enter the Cipher Text : \"))\n",
    "key = str(input(\"Enter the key : \"))\n",
    "print(Decrypt(ctext , key))\n",
    "\n"
   ]
  },
  {
   "cell_type": "code",
   "execution_count": null,
   "id": "345056ec-9cae-4c39-b443-d41a6e638ab6",
   "metadata": {},
   "outputs": [],
   "source": []
  }
 ],
 "metadata": {
  "kernelspec": {
   "display_name": "Python 3 (ipykernel)",
   "language": "python",
   "name": "python3"
  },
  "language_info": {
   "codemirror_mode": {
    "name": "ipython",
    "version": 3
   },
   "file_extension": ".py",
   "mimetype": "text/x-python",
   "name": "python",
   "nbconvert_exporter": "python",
   "pygments_lexer": "ipython3",
   "version": "3.12.7"
  }
 },
 "nbformat": 4,
 "nbformat_minor": 5
}
